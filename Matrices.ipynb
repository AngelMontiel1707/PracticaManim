{
 "cells": [
  {
   "cell_type": "markdown",
   "id": "b1323ae5",
   "metadata": {},
   "source": [
    "**Luis Angel Garcia Montiel**\n",
    "\n",
    "**Ingenieria en computacion** \n",
    "\n",
    "**Graficacion Computacional**\n",
    "\n",
    "**Hazem Alvarez**\n",
    "\n",
    "**Matrices**\n",
    "\n",
    "\n",
    "**11 de Noviembre del 2024**"
   ]
  },
  {
   "cell_type": "markdown",
   "id": "1db0da70",
   "metadata": {},
   "source": [
    "**Sistemas de ecuaciones lineales con numpy**\n",
    "\n",
    "\n",
    "Python permite resolver fácilmente sistemas de ecuaciones lineales empleando  **numpy** \n",
    "\n",
    "\n",
    "*Un sistema de n ecuaciones con n incógnitas se puede escribir de la siguiente forma:*\n",
    "\n",
    "\n",
    "*También se puede escribir en forma matricial*\n",
    "\n",
    "\n",
    "*Esto se puede reescribir de forma compacta utilizando Ax=b, donde A es una matriz de dimensión nxn y x y b son dos vectores columna de longitud n.*\n",
    "\n",
    "*Recuperado de Sistemas de ecuaciones lineales con numpy en https://www.analyticslane.com/2018/10/29/sistemas-de-ecuaciones-lineales-con-numpy/*"
   ]
  },
  {
   "cell_type": "code",
   "execution_count": 6,
   "id": "29262370",
   "metadata": {},
   "outputs": [
    {
     "name": "stdout",
     "output_type": "stream",
     "text": [
      "Matriz A:\n",
      "[[ 2  3]\n",
      " [ 1 -2]]\n",
      "\n",
      "Matriz b:\n",
      "[[  8]\n",
      " [-10]]\n",
      "\n",
      "Solución x:\n",
      "[[-2.]\n",
      " [ 4.]]\n"
     ]
    }
   ],
   "source": [
    "import numpy as np\n",
    "\n",
    "# Definir las matrices\n",
    "A = np.matrix([[2, 3], [1, -2]])\n",
    "b = np.matrix([[8], [-10]])\n",
    "\n",
    "\n",
    "    print(\"Matriz A:\")\n",
    "    print(A)\n",
    "    print(\"\\nMatriz b:\")\n",
    "    print(b)\n",
    "    print(\"\\nSolución x:\")\n",
    "    print(x)\n"
   ]
  },
  {
   "cell_type": "code",
   "execution_count": 13,
   "id": "b97de4a6",
   "metadata": {},
   "outputs": [
    {
     "name": "stdout",
     "output_type": "stream",
     "text": [
      "-7.000000000000001\n"
     ]
    }
   ],
   "source": [
    "print(np.linalg.det(A))"
   ]
  },
  {
   "cell_type": "markdown",
   "id": "807aed46",
   "metadata": {},
   "source": [
    "*Empleando la ecuación **Ax=b** se despeja **x** y se asume que la matriz **A** es regular, se puede multiplicar la expresión por la inversa de **A**, **A-1**\n",
    "\n",
    "*Por tanto **A-1A** es la matriz identidad y se puede escribir la solución del sistema como:"
   ]
  },
  {
   "cell_type": "code",
   "execution_count": 7,
   "id": "a76ebf19",
   "metadata": {},
   "outputs": [
    {
     "name": "stdout",
     "output_type": "stream",
     "text": [
      "Inverse A-1 /n [[-2.]\n",
      " [ 4.]]\n"
     ]
    }
   ],
   "source": [
    "x = (A**-1)*b\n",
    "print (\"Inverse A-1 /n\", x)"
   ]
  },
  {
   "cell_type": "code",
   "execution_count": 9,
   "id": "36ec99cb",
   "metadata": {},
   "outputs": [
    {
     "name": "stdout",
     "output_type": "stream",
     "text": [
      "This is A\n",
      " [[ 3.   2.  -1. ]\n",
      " [ 2.  -2.   4. ]\n",
      " [-1.   0.5 -1. ]]\n",
      "This is b\n",
      " [[ 1]\n",
      " [-2]\n",
      " [ 0]]\n"
     ]
    }
   ],
   "source": [
    "import numpy as np\n",
    "\n",
    "A4 = np.matrix([[3, 2, -1], [2, -2, 4], [-1, 1/2, -1]])\n",
    "b4 = np.matrix([[1], [-2], [0]])\n",
    "\n",
    "print('This is A\\n', A4)\n",
    "print('This is b\\n', b4)\n"
   ]
  },
  {
   "cell_type": "code",
   "execution_count": 11,
   "id": "964b0f62",
   "metadata": {},
   "outputs": [
    {
     "name": "stdout",
     "output_type": "stream",
     "text": [
      "[[ 1.]\n",
      " [-2.]\n",
      " [-2.]]\n"
     ]
    }
   ],
   "source": [
    "x = (A4**-1)*b4\n",
    "print (x)"
   ]
  },
  {
   "cell_type": "code",
   "execution_count": 14,
   "id": "f99387ea",
   "metadata": {},
   "outputs": [
    {
     "name": "stdout",
     "output_type": "stream",
     "text": [
      "-3.0000000000000018\n"
     ]
    }
   ],
   "source": [
    "print(np.linalg.det(A4))"
   ]
  },
  {
   "cell_type": "markdown",
   "id": "4ecbcde2",
   "metadata": {},
   "source": [
    "**EJERCICIO**"
   ]
  },
  {
   "cell_type": "code",
   "execution_count": 19,
   "id": "545ba8d4",
   "metadata": {},
   "outputs": [
    {
     "name": "stdout",
     "output_type": "stream",
     "text": [
      "Matriz B:\n",
      "[[ 4 -1]\n",
      " [-2  0]]\n",
      "Determinante de B: -2.0\n",
      "Solución de Bx = b: [ 0. -1.]\n"
     ]
    }
   ],
   "source": [
    "import numpy as np\n",
    "\n",
    "# Definición de la matriz B\n",
    "\n",
    "B = np.array([[4, -1], [-2, 0]])\n",
    "print(\"Matriz B:\")\n",
    "print(B)\n",
    "\n",
    "# Cálculo del determinante de B\n",
    "\n",
    "determinante_B = np.linalg.det(B)\n",
    "print(\"Determinante de B:\", determinante_B)\n",
    "\n",
    "# Verificación de invertibilidad y cálculo de solución\n",
    "\n",
    "if determinante_B != 0:\n",
    "    \n",
    "    # Definimos un vector b para el sistema Bx = b\n",
    "    \n",
    "    b_vector = np.array([1, 0])  # Añadimos cualquier vector \n",
    "    solucion_B = np.linalg.solve(B, b_vector)\n",
    "    print(\"Solución de Bx = b:\", solucion_B)\n",
    "else:\n",
    "    print(\"La matriz B no es invertible, por lo tanto, no tiene solución única.\")\n",
    "\n"
   ]
  },
  {
   "cell_type": "code",
   "execution_count": 20,
   "id": "14db380e",
   "metadata": {},
   "outputs": [
    {
     "name": "stdout",
     "output_type": "stream",
     "text": [
      "Matriz C:\n",
      "[[5 0 2]\n",
      " [3 1 1]\n",
      " [0 1 2]]\n",
      "Determinante de C: 11.000000000000002\n",
      "Solución de Cx = b: [0.09090909 0.45454545 0.27272727]\n"
     ]
    }
   ],
   "source": [
    "# Definición de la matriz C\n",
    "\n",
    "C = np.array([[5, 0, 2], [3, 1, 1], [0, 1, 2]])\n",
    "print(\"Matriz C:\")\n",
    "print(C)\n",
    "\n",
    "# Cálculo del determinante de C\n",
    "\n",
    "determinante_C = np.linalg.det(C)\n",
    "print(\"Determinante de C:\", determinante_C)\n",
    "\n",
    "# Verificación de invertibilidad y cálculo de solución\n",
    "\n",
    "if determinante_C != 0:\n",
    "    \n",
    "    # Definimos un vector b para el sistema Cx = b\n",
    "    \n",
    "    b_vector = np.array([1, 1, 1])  # Cambia este vector según sea necesario\n",
    "    solucion_C = np.linalg.solve(C, b_vector)\n",
    "    print(\"Solución de Cx = b:\", solucion_C)\n",
    "else:\n",
    "    print(\"La matriz C no es invertible, por lo tanto, no tiene solución única.\")\n",
    "\n"
   ]
  },
  {
   "cell_type": "code",
   "execution_count": 22,
   "id": "6b21d11a",
   "metadata": {},
   "outputs": [
    {
     "name": "stdout",
     "output_type": "stream",
     "text": [
      "Determinante de B: -2.0\n",
      "Solución del sistema: [ 1. -2. -2.]\n",
      "Determinante de A: -3.0000000000000018\n"
     ]
    }
   ],
   "source": [
    "import numpy as np\n",
    "\n",
    "# Ejemplo de la matriz B\n",
    "\n",
    "B = np.array([[4, -1], [-2, 0]])\n",
    "determinante_B = np.linalg.det(B)\n",
    "print(\"Determinante de B:\", determinante_B)\n",
    "\n",
    "# Representación matricial del sistema\n",
    "\n",
    "A = np.array([[3, 2, -1], [2, -2, 4], [-1, 0.5, -1]])\n",
    "b = np.array([1, -2, 0])\n",
    "\n",
    "# Resolución del sistema\n",
    "\n",
    "x = np.linalg.solve(A, b)\n",
    "print(\"Solución del sistema:\", x)\n",
    "\n",
    "# Determinante de la matriz A\n",
    "\n",
    "determinante_A = np.linalg.det(A)\n",
    "print(\"Determinante de A:\", determinante_A)"
   ]
  },
  {
   "cell_type": "code",
   "execution_count": null,
   "id": "879c3b03",
   "metadata": {},
   "outputs": [],
   "source": []
  }
 ],
 "metadata": {
  "kernelspec": {
   "display_name": "Python 3 (ipykernel)",
   "language": "python",
   "name": "python3"
  },
  "language_info": {
   "codemirror_mode": {
    "name": "ipython",
    "version": 3
   },
   "file_extension": ".py",
   "mimetype": "text/x-python",
   "name": "python",
   "nbconvert_exporter": "python",
   "pygments_lexer": "ipython3",
   "version": "3.9.13"
  }
 },
 "nbformat": 4,
 "nbformat_minor": 5
}
